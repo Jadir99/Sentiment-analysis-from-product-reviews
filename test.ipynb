{
 "cells": [
  {
   "cell_type": "code",
   "execution_count": 20,
   "metadata": {},
   "outputs": [],
   "source": [
    "\n",
    "from selenium import webdriver\n",
    "from selenium.webdriver.common.by import By\n",
    "from selenium.webdriver.common.keys import Keys\n",
    "from time import sleep\n",
    "from selenium.common.exceptions import StaleElementReferenceException\n",
    "from selenium.common.exceptions import NoSuchElementException\n",
    "from selenium.webdriver.edge.service import Service"
   ]
  },
  {
   "cell_type": "code",
   "execution_count": 76,
   "metadata": {},
   "outputs": [],
   "source": [
    "PATH ='edge_driver\\\\msedgedriver.exe'\n",
    "\n",
    "service = Service(PATH)\n",
    "driver = webdriver.Edge(service=service)\n",
    "url='https://www.amazon.com/DIERYA-Programmable-Customizable-Honeycomb-Drag-Free/dp/B0BGS8PG3K/ref=sr_1_1_sspa?crid=2OZ2HU04D3MJ0&dib=eyJ2IjoiMSJ9.SmIo5lSUmWub_0kmt39fqJFUtNZ54Nku_AWC2A3MERwFzP0sf9o4_urjwc8SLjewAFSMkXaV5msWCNapSpnyvqVxjhTg1TUSyA0g34EhHNwFGsRuhmsSu_d9ADOG7KSAA7yNy3k39UBAmKCSHA1Cod17od5pp6ftLTVUUtrrlEfEOrifBYoYxszj5azKUqqPJK8wWDYTdiq8exYiNhsYfAxrMvaumhoYxKqlwLRklnc.r6rDZODB8p5dVB7HQWmrPMnrWqaALtH9ChSsrz8M2uc&dib_tag=se&keywords=mouse%2Bgaming&qid=1729342007&sprefix=%2Caps%2C170&sr=8-1-spons&sp_csd=d2lkZ2V0TmFtZT1zcF9hdGY&th=1'\n",
    "driver.get(url)\n",
    "driver.find_element(By.XPATH,\"//*[@data-hook='see-all-reviews-link-foot']\").click()\n",
    "total_comments=driver.find_element(By.XPATH,\"//*[@data-hook='cr-filter-info-review-rating-count']\").text\n",
    "# driver.find_element(By.XPATH,\"//*[@data-hook='cr-translate-these-reviews-link']\").click()\n"
   ]
  },
  {
   "cell_type": "code",
   "execution_count": 107,
   "metadata": {},
   "outputs": [],
   "source": [
    "\n",
    "from datetime import datetime\n",
    "def remove_things(text):\n",
    "    \n",
    "    test= text.split('\\n')\n",
    "\n",
    "    # Original string parts\n",
    "    month = test[2].split()[-3]\n",
    "    day = int(test[2].split()[-2].split(',')[0])\n",
    "    year = test[2].split()[-1]\n",
    "\n",
    "    # Create a single string representing the date\n",
    "    date_string = f\"{month} {day}, {year}\"\n",
    "\n",
    "    # Parse the string into a datetime object\n",
    "    date_obj = datetime.strptime(date_string, \"%B %d, %Y\").date()\n",
    "    return test[0],test[1],date_obj,test[4]"
   ]
  },
  {
   "cell_type": "code",
   "execution_count": 180,
   "metadata": {},
   "outputs": [
    {
     "ename": "SyntaxError",
     "evalue": "incomplete input (2388061433.py, line 2)",
     "output_type": "error",
     "traceback": [
      "\u001b[1;36m  Cell \u001b[1;32mIn[180], line 2\u001b[1;36m\u001b[0m\n\u001b[1;33m    def scrappingData():\u001b[0m\n\u001b[1;37m                        ^\u001b[0m\n\u001b[1;31mSyntaxError\u001b[0m\u001b[1;31m:\u001b[0m incomplete input\n"
     ]
    }
   ],
   "source": [
    "import time\n",
    "def scrappingData():\n",
    "    elements = []\n",
    "    ratings=[]\n",
    "    while len(elements) < 100:\n",
    "        # Find comments that start with \"customer_review\"\n",
    "        teen_comments = driver.find_elements(By.XPATH, \"//*[starts-with(@id, 'customer_review')]\")\n",
    "        # elements.extend(teen_comments)\n",
    "        for comment in teen_comments:\n",
    "            elements.append(comment.text)\n",
    "\n",
    "        \n",
    "        # teen_ratings = driver.find_elements(By.XPATH, \"//*[starts-with(@id, 'customer_review')]//div[2]/a/i/span\")\n",
    "        # for rating in teen_ratings:\n",
    "        #     ratings.append(rating.text)\n",
    "        # Find ratings that start with \"customer_review\"\n",
    "        teen_ratings = driver.find_elements(By.XPATH, \"//*[starts-with(@id, 'customer_review')]//div[2]/a/i/span\")\n",
    "        \n",
    "        # Extract ratings without using .text\n",
    "        for rating in teen_ratings:\n",
    "            # Using the get_attribute method to retrieve the inner HTML or a specific attribute\n",
    "            ratings.append(rating.get_attribute('innerHTML'))\n",
    "\n",
    "        # Pause briefly\n",
    "        print('wsln daba l ',len(elements))\n",
    "        time.sleep(1)\n",
    "\n",
    "        # Try to find the next page button\n",
    "        try:\n",
    "            next_button = driver.find_element(By.XPATH, '//*[@id=\"cm_cr-pagination_bar\"]/ul/li[2]/a')\n",
    "            next_button.click()  # Click the next page button\n",
    "        except NoSuchElementException:\n",
    "            print(\"Next page button does not exist. Stopping pagination.\")\n",
    "            break  # Break the loop if the \"Next\" button is not found\n",
    "        \n",
    "        # Pause briefly after clicking\n",
    "        time.sleep(1)\n",
    "    return elements,ratings"
   ]
  },
  {
   "cell_type": "code",
   "execution_count": 178,
   "metadata": {},
   "outputs": [
    {
     "name": "stdout",
     "output_type": "stream",
     "text": [
      "('Adriana', 'Very good mouse for the price', datetime.date(2023, 12, 24), 'I was looking for a breathable type mouth for a while and i could not afford the other expensive ones so i wanted to give this one a try, ive been gaming with it and its super nice, it feels like really good quality and its also very pretty looking! Its DPI settings are super easy and super fast as well and the colors are nice too. I would reccomend if youre looking for a pretty/nice looking mouse that has the same functions as a much more expensive one for a low price! :))')\n"
     ]
    }
   ],
   "source": [
    "\n",
    "import pandas as pd\n",
    "    # turn the text to rating star to int \n",
    "def test(elements,ratings):\n",
    "    new_ratings=[int(rating.split()[0].split('.')[0]) for rating in ratings]\n",
    "    df = pd.DataFrame([remove_things(x) for x in elements], columns=['Username', 'Title', 'Date', 'Comment'])\n",
    "    df['rating']=new_ratings\n",
    "    return df"
   ]
  },
  {
   "cell_type": "code",
   "execution_count": 179,
   "metadata": {},
   "outputs": [
    {
     "data": {
      "text/html": [
       "<div>\n",
       "<style scoped>\n",
       "    .dataframe tbody tr th:only-of-type {\n",
       "        vertical-align: middle;\n",
       "    }\n",
       "\n",
       "    .dataframe tbody tr th {\n",
       "        vertical-align: top;\n",
       "    }\n",
       "\n",
       "    .dataframe thead th {\n",
       "        text-align: right;\n",
       "    }\n",
       "</style>\n",
       "<table border=\"1\" class=\"dataframe\">\n",
       "  <thead>\n",
       "    <tr style=\"text-align: right;\">\n",
       "      <th></th>\n",
       "      <th>Username</th>\n",
       "      <th>Title</th>\n",
       "      <th>Date</th>\n",
       "      <th>Comment</th>\n",
       "      <th>rating</th>\n",
       "    </tr>\n",
       "  </thead>\n",
       "  <tbody>\n",
       "    <tr>\n",
       "      <th>0</th>\n",
       "      <td>Adriana</td>\n",
       "      <td>Very good mouse for the price</td>\n",
       "      <td>2023-12-24</td>\n",
       "      <td>I was looking for a breathable type mouth for ...</td>\n",
       "      <td>5</td>\n",
       "    </tr>\n",
       "    <tr>\n",
       "      <th>1</th>\n",
       "      <td>Gabriel Coigny</td>\n",
       "      <td>One of the best value mice</td>\n",
       "      <td>2023-03-21</td>\n",
       "      <td>To be honest I didn’t expect this mouse to be ...</td>\n",
       "      <td>5</td>\n",
       "    </tr>\n",
       "    <tr>\n",
       "      <th>2</th>\n",
       "      <td>Jake Griffin</td>\n",
       "      <td>Great for the money!</td>\n",
       "      <td>2024-04-16</td>\n",
       "      <td>Does the job and looks nice!</td>\n",
       "      <td>4</td>\n",
       "    </tr>\n",
       "    <tr>\n",
       "      <th>3</th>\n",
       "      <td>Anthony</td>\n",
       "      <td>Incredible</td>\n",
       "      <td>2024-03-30</td>\n",
       "      <td>My pc off, but lemme tell you im not a mouse a...</td>\n",
       "      <td>5</td>\n",
       "    </tr>\n",
       "    <tr>\n",
       "      <th>4</th>\n",
       "      <td>Hailey</td>\n",
       "      <td>Pretty large but works so amazingly</td>\n",
       "      <td>2024-04-11</td>\n",
       "      <td>It’s pretty easy to setup and it’s so comforta...</td>\n",
       "      <td>5</td>\n",
       "    </tr>\n",
       "    <tr>\n",
       "      <th>...</th>\n",
       "      <td>...</td>\n",
       "      <td>...</td>\n",
       "      <td>...</td>\n",
       "      <td>...</td>\n",
       "      <td>...</td>\n",
       "    </tr>\n",
       "    <tr>\n",
       "      <th>95</th>\n",
       "      <td>Samir P.</td>\n",
       "      <td>Very good</td>\n",
       "      <td>2023-12-28</td>\n",
       "      <td>Good product</td>\n",
       "      <td>5</td>\n",
       "    </tr>\n",
       "    <tr>\n",
       "      <th>96</th>\n",
       "      <td>San Diego Prime</td>\n",
       "      <td>Nice mouse for office use</td>\n",
       "      <td>2023-05-20</td>\n",
       "      <td>I bought this mouse for non-gaming (work) use....</td>\n",
       "      <td>5</td>\n",
       "    </tr>\n",
       "    <tr>\n",
       "      <th>97</th>\n",
       "      <td>bleach</td>\n",
       "      <td>its been a few months</td>\n",
       "      <td>2024-03-31</td>\n",
       "      <td>im an avid gamer and have semi enjoyed the mou...</td>\n",
       "      <td>2</td>\n",
       "    </tr>\n",
       "    <tr>\n",
       "      <th>98</th>\n",
       "      <td>Kerry C.</td>\n",
       "      <td>Works good</td>\n",
       "      <td>2023-09-23</td>\n",
       "      <td>Works good for daughter and looks cute</td>\n",
       "      <td>5</td>\n",
       "    </tr>\n",
       "    <tr>\n",
       "      <th>99</th>\n",
       "      <td>LISA MARIE D</td>\n",
       "      <td>good item love it!</td>\n",
       "      <td>2023-07-31</td>\n",
       "      <td>my nephew loved it as a gift!! he picked it ou...</td>\n",
       "      <td>5</td>\n",
       "    </tr>\n",
       "  </tbody>\n",
       "</table>\n",
       "<p>100 rows × 5 columns</p>\n",
       "</div>"
      ],
      "text/plain": [
       "           Username                                Title        Date  \\\n",
       "0           Adriana        Very good mouse for the price  2023-12-24   \n",
       "1    Gabriel Coigny           One of the best value mice  2023-03-21   \n",
       "2      Jake Griffin                 Great for the money!  2024-04-16   \n",
       "3           Anthony                           Incredible  2024-03-30   \n",
       "4            Hailey  Pretty large but works so amazingly  2024-04-11   \n",
       "..              ...                                  ...         ...   \n",
       "95         Samir P.                            Very good  2023-12-28   \n",
       "96  San Diego Prime            Nice mouse for office use  2023-05-20   \n",
       "97           bleach                its been a few months  2024-03-31   \n",
       "98         Kerry C.                           Works good  2023-09-23   \n",
       "99     LISA MARIE D                   good item love it!  2023-07-31   \n",
       "\n",
       "                                              Comment  rating  \n",
       "0   I was looking for a breathable type mouth for ...       5  \n",
       "1   To be honest I didn’t expect this mouse to be ...       5  \n",
       "2                        Does the job and looks nice!       4  \n",
       "3   My pc off, but lemme tell you im not a mouse a...       5  \n",
       "4   It’s pretty easy to setup and it’s so comforta...       5  \n",
       "..                                                ...     ...  \n",
       "95                                       Good product       5  \n",
       "96  I bought this mouse for non-gaming (work) use....       5  \n",
       "97  im an avid gamer and have semi enjoyed the mou...       2  \n",
       "98             Works good for daughter and looks cute       5  \n",
       "99  my nephew loved it as a gift!! he picked it ou...       5  \n",
       "\n",
       "[100 rows x 5 columns]"
      ]
     },
     "execution_count": 179,
     "metadata": {},
     "output_type": "execute_result"
    }
   ],
   "source": [
    "df"
   ]
  },
  {
   "cell_type": "code",
   "execution_count": 79,
   "metadata": {},
   "outputs": [
    {
     "name": "stdout",
     "output_type": "stream",
     "text": [
      "Juan hernandez\n",
      "Excelente\n",
      "Reviewed in the United States on January 12, 2024\n",
      "Color: blackStyle: 12800DPIVerified Purchase\n",
      "Excelente trabajo excelente y puntual servicio gracias\n",
      "Helpful\n",
      "Report\n",
      "Translate review to English\n"
     ]
    },
    {
     "ename": "StaleElementReferenceException",
     "evalue": "Message: stale element reference: stale element not found in the current frame\n  (Session info: MicrosoftEdge=130.0.2849.46); For documentation on this error, please visit: https://www.selenium.dev/documentation/webdriver/troubleshooting/errors#stale-element-reference-exception\nStacktrace:\n\tGetHandleVerifier [0x00007FF7451BD095+12933]\n\tMicrosoft::Applications::Events::EventProperty::empty [0x00007FF74547FE14+2285364]\n\tMicrosoft::Applications::Events::EventProperty::empty [0x00007FF7453BD7D6+1489142]\n\t(No symbol) [0x00007FF744F6B005]\n\t(No symbol) [0x00007FF744F6CC07]\n\t(No symbol) [0x00007FF744F6CCC0]\n\t(No symbol) [0x00007FF744FA551B]\n\t(No symbol) [0x00007FF744FC847A]\n\t(No symbol) [0x00007FF744FA05A7]\n\t(No symbol) [0x00007FF744FA046D]\n\t(No symbol) [0x00007FF744FC8760]\n\t(No symbol) [0x00007FF744FA05A7]\n\t(No symbol) [0x00007FF744FE13B1]\n\t(No symbol) [0x00007FF744FC80E3]\n\t(No symbol) [0x00007FF744F9FAE4]\n\t(No symbol) [0x00007FF744F9EF90]\n\t(No symbol) [0x00007FF744F9F6D1]\n\tMicrosoft::Applications::Events::EventProperty::empty [0x00007FF745354764+1058948]\n\tMicrosoft::Applications::Events::EventProperty::~EventProperty [0x00007FF7450C66B4+56500]\n\tMicrosoft::Applications::Events::EventProperty::empty [0x00007FF745353763+1054851]\n\tMicrosoft::Applications::Events::EventProperty::empty [0x00007FF7453533C9+1053929]\n\tMicrosoft::Applications::Events::ILogConfiguration::operator* [0x00007FF7451539E1+428481]\n\tMicrosoft::Applications::Events::ILogConfiguration::operator* [0x00007FF74514FC94+412788]\n\tMicrosoft::Applications::Events::ILogConfiguration::operator* [0x00007FF74514FDD9+413113]\n\tMicrosoft::Applications::Events::ILogConfiguration::operator* [0x00007FF745145A06+371174]\n\tBaseThreadInitThunk [0x00007FFAD6EF257D+29]\n\tRtlUserThreadStart [0x00007FFAD8ECAF08+40]\n",
     "output_type": "error",
     "traceback": [
      "\u001b[1;31m---------------------------------------------------------------------------\u001b[0m",
      "\u001b[1;31mStaleElementReferenceException\u001b[0m            Traceback (most recent call last)",
      "Cell \u001b[1;32mIn[79], line 5\u001b[0m\n\u001b[0;32m      3\u001b[0m \u001b[38;5;28mprint\u001b[39m(teen_comments[\u001b[38;5;241m0\u001b[39m]\u001b[38;5;241m.\u001b[39mtext)\n\u001b[0;32m      4\u001b[0m \u001b[38;5;66;03m# print(type(teen_comments[0]))\u001b[39;00m\n\u001b[1;32m----> 5\u001b[0m \u001b[38;5;28mprint\u001b[39m(\u001b[38;5;28mtype\u001b[39m(\u001b[43melements\u001b[49m\u001b[43m[\u001b[49m\u001b[38;5;241;43m0\u001b[39;49m\u001b[43m]\u001b[49m\u001b[38;5;241;43m.\u001b[39;49m\u001b[43mtext\u001b[49m))\n\u001b[0;32m      6\u001b[0m \u001b[38;5;66;03m# len(elements)\u001b[39;00m\n",
      "File \u001b[1;32mc:\\Users\\moham\\AppData\\Local\\Programs\\Python\\Python312\\Lib\\site-packages\\selenium\\webdriver\\remote\\webelement.py:90\u001b[0m, in \u001b[0;36mWebElement.text\u001b[1;34m(self)\u001b[0m\n\u001b[0;32m     87\u001b[0m \u001b[38;5;129m@property\u001b[39m\n\u001b[0;32m     88\u001b[0m \u001b[38;5;28;01mdef\u001b[39;00m \u001b[38;5;21mtext\u001b[39m(\u001b[38;5;28mself\u001b[39m) \u001b[38;5;241m-\u001b[39m\u001b[38;5;241m>\u001b[39m \u001b[38;5;28mstr\u001b[39m:\n\u001b[0;32m     89\u001b[0m \u001b[38;5;250m    \u001b[39m\u001b[38;5;124;03m\"\"\"The text of the element.\"\"\"\u001b[39;00m\n\u001b[1;32m---> 90\u001b[0m     \u001b[38;5;28;01mreturn\u001b[39;00m \u001b[38;5;28;43mself\u001b[39;49m\u001b[38;5;241;43m.\u001b[39;49m\u001b[43m_execute\u001b[49m\u001b[43m(\u001b[49m\u001b[43mCommand\u001b[49m\u001b[38;5;241;43m.\u001b[39;49m\u001b[43mGET_ELEMENT_TEXT\u001b[49m\u001b[43m)\u001b[49m[\u001b[38;5;124m\"\u001b[39m\u001b[38;5;124mvalue\u001b[39m\u001b[38;5;124m\"\u001b[39m]\n",
      "File \u001b[1;32mc:\\Users\\moham\\AppData\\Local\\Programs\\Python\\Python312\\Lib\\site-packages\\selenium\\webdriver\\remote\\webelement.py:395\u001b[0m, in \u001b[0;36mWebElement._execute\u001b[1;34m(self, command, params)\u001b[0m\n\u001b[0;32m    393\u001b[0m     params \u001b[38;5;241m=\u001b[39m {}\n\u001b[0;32m    394\u001b[0m params[\u001b[38;5;124m\"\u001b[39m\u001b[38;5;124mid\u001b[39m\u001b[38;5;124m\"\u001b[39m] \u001b[38;5;241m=\u001b[39m \u001b[38;5;28mself\u001b[39m\u001b[38;5;241m.\u001b[39m_id\n\u001b[1;32m--> 395\u001b[0m \u001b[38;5;28;01mreturn\u001b[39;00m \u001b[38;5;28;43mself\u001b[39;49m\u001b[38;5;241;43m.\u001b[39;49m\u001b[43m_parent\u001b[49m\u001b[38;5;241;43m.\u001b[39;49m\u001b[43mexecute\u001b[49m\u001b[43m(\u001b[49m\u001b[43mcommand\u001b[49m\u001b[43m,\u001b[49m\u001b[43m \u001b[49m\u001b[43mparams\u001b[49m\u001b[43m)\u001b[49m\n",
      "File \u001b[1;32mc:\\Users\\moham\\AppData\\Local\\Programs\\Python\\Python312\\Lib\\site-packages\\selenium\\webdriver\\remote\\webdriver.py:354\u001b[0m, in \u001b[0;36mWebDriver.execute\u001b[1;34m(self, driver_command, params)\u001b[0m\n\u001b[0;32m    352\u001b[0m response \u001b[38;5;241m=\u001b[39m \u001b[38;5;28mself\u001b[39m\u001b[38;5;241m.\u001b[39mcommand_executor\u001b[38;5;241m.\u001b[39mexecute(driver_command, params)\n\u001b[0;32m    353\u001b[0m \u001b[38;5;28;01mif\u001b[39;00m response:\n\u001b[1;32m--> 354\u001b[0m     \u001b[38;5;28;43mself\u001b[39;49m\u001b[38;5;241;43m.\u001b[39;49m\u001b[43merror_handler\u001b[49m\u001b[38;5;241;43m.\u001b[39;49m\u001b[43mcheck_response\u001b[49m\u001b[43m(\u001b[49m\u001b[43mresponse\u001b[49m\u001b[43m)\u001b[49m\n\u001b[0;32m    355\u001b[0m     response[\u001b[38;5;124m\"\u001b[39m\u001b[38;5;124mvalue\u001b[39m\u001b[38;5;124m\"\u001b[39m] \u001b[38;5;241m=\u001b[39m \u001b[38;5;28mself\u001b[39m\u001b[38;5;241m.\u001b[39m_unwrap_value(response\u001b[38;5;241m.\u001b[39mget(\u001b[38;5;124m\"\u001b[39m\u001b[38;5;124mvalue\u001b[39m\u001b[38;5;124m\"\u001b[39m, \u001b[38;5;28;01mNone\u001b[39;00m))\n\u001b[0;32m    356\u001b[0m     \u001b[38;5;28;01mreturn\u001b[39;00m response\n",
      "File \u001b[1;32mc:\\Users\\moham\\AppData\\Local\\Programs\\Python\\Python312\\Lib\\site-packages\\selenium\\webdriver\\remote\\errorhandler.py:229\u001b[0m, in \u001b[0;36mErrorHandler.check_response\u001b[1;34m(self, response)\u001b[0m\n\u001b[0;32m    227\u001b[0m         alert_text \u001b[38;5;241m=\u001b[39m value[\u001b[38;5;124m\"\u001b[39m\u001b[38;5;124malert\u001b[39m\u001b[38;5;124m\"\u001b[39m]\u001b[38;5;241m.\u001b[39mget(\u001b[38;5;124m\"\u001b[39m\u001b[38;5;124mtext\u001b[39m\u001b[38;5;124m\"\u001b[39m)\n\u001b[0;32m    228\u001b[0m     \u001b[38;5;28;01mraise\u001b[39;00m exception_class(message, screen, stacktrace, alert_text)  \u001b[38;5;66;03m# type: ignore[call-arg]  # mypy is not smart enough here\u001b[39;00m\n\u001b[1;32m--> 229\u001b[0m \u001b[38;5;28;01mraise\u001b[39;00m exception_class(message, screen, stacktrace)\n",
      "\u001b[1;31mStaleElementReferenceException\u001b[0m: Message: stale element reference: stale element not found in the current frame\n  (Session info: MicrosoftEdge=130.0.2849.46); For documentation on this error, please visit: https://www.selenium.dev/documentation/webdriver/troubleshooting/errors#stale-element-reference-exception\nStacktrace:\n\tGetHandleVerifier [0x00007FF7451BD095+12933]\n\tMicrosoft::Applications::Events::EventProperty::empty [0x00007FF74547FE14+2285364]\n\tMicrosoft::Applications::Events::EventProperty::empty [0x00007FF7453BD7D6+1489142]\n\t(No symbol) [0x00007FF744F6B005]\n\t(No symbol) [0x00007FF744F6CC07]\n\t(No symbol) [0x00007FF744F6CCC0]\n\t(No symbol) [0x00007FF744FA551B]\n\t(No symbol) [0x00007FF744FC847A]\n\t(No symbol) [0x00007FF744FA05A7]\n\t(No symbol) [0x00007FF744FA046D]\n\t(No symbol) [0x00007FF744FC8760]\n\t(No symbol) [0x00007FF744FA05A7]\n\t(No symbol) [0x00007FF744FE13B1]\n\t(No symbol) [0x00007FF744FC80E3]\n\t(No symbol) [0x00007FF744F9FAE4]\n\t(No symbol) [0x00007FF744F9EF90]\n\t(No symbol) [0x00007FF744F9F6D1]\n\tMicrosoft::Applications::Events::EventProperty::empty [0x00007FF745354764+1058948]\n\tMicrosoft::Applications::Events::EventProperty::~EventProperty [0x00007FF7450C66B4+56500]\n\tMicrosoft::Applications::Events::EventProperty::empty [0x00007FF745353763+1054851]\n\tMicrosoft::Applications::Events::EventProperty::empty [0x00007FF7453533C9+1053929]\n\tMicrosoft::Applications::Events::ILogConfiguration::operator* [0x00007FF7451539E1+428481]\n\tMicrosoft::Applications::Events::ILogConfiguration::operator* [0x00007FF74514FC94+412788]\n\tMicrosoft::Applications::Events::ILogConfiguration::operator* [0x00007FF74514FDD9+413113]\n\tMicrosoft::Applications::Events::ILogConfiguration::operator* [0x00007FF745145A06+371174]\n\tBaseThreadInitThunk [0x00007FFAD6EF257D+29]\n\tRtlUserThreadStart [0x00007FFAD8ECAF08+40]\n"
     ]
    }
   ],
   "source": [
    "# all_comments=(driver.find_elements(By.XPATH,\"//*[@data-hook='review']\"))\n",
    "# len(teen_comments)\n",
    "print(teen_comments[0].text)\n",
    "# print(type(teen_comments[0]))\n",
    "print(type(elements[0].text))\n",
    "# len(elements)"
   ]
  },
  {
   "cell_type": "code",
   "execution_count": 14,
   "metadata": {},
   "outputs": [
    {
     "ename": "AttributeError",
     "evalue": "'list' object has no attribute 'text'",
     "output_type": "error",
     "traceback": [
      "\u001b[1;31m---------------------------------------------------------------------------\u001b[0m",
      "\u001b[1;31mAttributeError\u001b[0m                            Traceback (most recent call last)",
      "Cell \u001b[1;32mIn[14], line 4\u001b[0m\n\u001b[0;32m      1\u001b[0m \u001b[38;5;28;01mfor\u001b[39;00m comm \u001b[38;5;129;01min\u001b[39;00m all_comments:\n\u001b[0;32m      2\u001b[0m     \u001b[38;5;66;03m# print('jadir')\u001b[39;00m\n\u001b[0;32m      3\u001b[0m     elements \u001b[38;5;241m=\u001b[39m comm\u001b[38;5;241m.\u001b[39mfind_elements(By\u001b[38;5;241m.\u001b[39mXPATH, \u001b[38;5;124m\"\u001b[39m\u001b[38;5;124m//*[starts-with(@id, \u001b[39m\u001b[38;5;124m'\u001b[39m\u001b[38;5;124mcustomer_review\u001b[39m\u001b[38;5;124m'\u001b[39m\u001b[38;5;124m)]\u001b[39m\u001b[38;5;124m\"\u001b[39m)\n\u001b[1;32m----> 4\u001b[0m     \u001b[38;5;28mprint\u001b[39m((\u001b[43melements\u001b[49m\u001b[38;5;241;43m.\u001b[39;49m\u001b[43mtext\u001b[49m\u001b[38;5;241m.\u001b[39msplit(\u001b[38;5;124m\"\u001b[39m\u001b[38;5;130;01m\\n\u001b[39;00m\u001b[38;5;124m\"\u001b[39m)))\n",
      "\u001b[1;31mAttributeError\u001b[0m: 'list' object has no attribute 'text'"
     ]
    }
   ],
   "source": [
    "# for comm in all_comments:\n",
    "#     # print('jadir')\n",
    "#     elements = comm.find_elements(By.XPATH, \"//*[starts-with(@id, 'customer_review')]\")\n",
    "#     print((elements.text.split(\"\\n\")))"
   ]
  },
  {
   "cell_type": "code",
   "execution_count": 54,
   "metadata": {},
   "outputs": [],
   "source": [
    "\n",
    "from datetime import datetime\n",
    "def remove_things(text):\n",
    "    \n",
    "    test= text.split('\\n')\n",
    "\n",
    "    # Original string parts\n",
    "    month = test[2].split()[-3]\n",
    "    day = int(test[2].split()[-2].split(',')[0])\n",
    "    year = test[2].split()[-1]\n",
    "\n",
    "    # Create a single string representing the date\n",
    "    date_string = f\"{month} {day}, {year}\"\n",
    "\n",
    "    # Parse the string into a datetime object\n",
    "    date_obj = datetime.strptime(date_string, \"%B %d, %Y\").date()\n",
    "    return test[0],test[1],date_obj,test[4]"
   ]
  },
  {
   "cell_type": "code",
   "execution_count": 62,
   "metadata": {},
   "outputs": [
    {
     "ename": "StaleElementReferenceException",
     "evalue": "Message: stale element reference: stale element not found in the current frame\n  (Session info: MicrosoftEdge=130.0.2849.46); For documentation on this error, please visit: https://www.selenium.dev/documentation/webdriver/troubleshooting/errors#stale-element-reference-exception\nStacktrace:\n\tGetHandleVerifier [0x00007FF7451BD095+12933]\n\tMicrosoft::Applications::Events::EventProperty::empty [0x00007FF74547FE14+2285364]\n\tMicrosoft::Applications::Events::EventProperty::empty [0x00007FF7453BD7D6+1489142]\n\t(No symbol) [0x00007FF744F6B005]\n\t(No symbol) [0x00007FF744F6CC07]\n\t(No symbol) [0x00007FF744F6CCC0]\n\t(No symbol) [0x00007FF744FA551B]\n\t(No symbol) [0x00007FF744FC847A]\n\t(No symbol) [0x00007FF744FA05A7]\n\t(No symbol) [0x00007FF744FA046D]\n\t(No symbol) [0x00007FF744FC8760]\n\t(No symbol) [0x00007FF744FA05A7]\n\t(No symbol) [0x00007FF744FE13B1]\n\t(No symbol) [0x00007FF744FC80E3]\n\t(No symbol) [0x00007FF744F9FAE4]\n\t(No symbol) [0x00007FF744F9EF90]\n\t(No symbol) [0x00007FF744F9F6D1]\n\tMicrosoft::Applications::Events::EventProperty::empty [0x00007FF745354764+1058948]\n\tMicrosoft::Applications::Events::EventProperty::~EventProperty [0x00007FF7450C66B4+56500]\n\tMicrosoft::Applications::Events::EventProperty::empty [0x00007FF745353763+1054851]\n\tMicrosoft::Applications::Events::EventProperty::empty [0x00007FF7453533C9+1053929]\n\tMicrosoft::Applications::Events::ILogConfiguration::operator* [0x00007FF7451539E1+428481]\n\tMicrosoft::Applications::Events::ILogConfiguration::operator* [0x00007FF74514FC94+412788]\n\tMicrosoft::Applications::Events::ILogConfiguration::operator* [0x00007FF74514FDD9+413113]\n\tMicrosoft::Applications::Events::ILogConfiguration::operator* [0x00007FF745145A06+371174]\n\tBaseThreadInitThunk [0x00007FFAD6EF257D+29]\n\tRtlUserThreadStart [0x00007FFAD8ECAF08+40]\n",
     "output_type": "error",
     "traceback": [
      "\u001b[1;31m---------------------------------------------------------------------------\u001b[0m",
      "\u001b[1;31mStaleElementReferenceException\u001b[0m            Traceback (most recent call last)",
      "Cell \u001b[1;32mIn[62], line 1\u001b[0m\n\u001b[1;32m----> 1\u001b[0m \u001b[43melements\u001b[49m\u001b[43m[\u001b[49m\u001b[38;5;241;43m0\u001b[39;49m\u001b[43m]\u001b[49m\u001b[38;5;241;43m.\u001b[39;49m\u001b[43mtext\u001b[49m\n",
      "File \u001b[1;32mc:\\Users\\moham\\AppData\\Local\\Programs\\Python\\Python312\\Lib\\site-packages\\selenium\\webdriver\\remote\\webelement.py:90\u001b[0m, in \u001b[0;36mWebElement.text\u001b[1;34m(self)\u001b[0m\n\u001b[0;32m     87\u001b[0m \u001b[38;5;129m@property\u001b[39m\n\u001b[0;32m     88\u001b[0m \u001b[38;5;28;01mdef\u001b[39;00m \u001b[38;5;21mtext\u001b[39m(\u001b[38;5;28mself\u001b[39m) \u001b[38;5;241m-\u001b[39m\u001b[38;5;241m>\u001b[39m \u001b[38;5;28mstr\u001b[39m:\n\u001b[0;32m     89\u001b[0m \u001b[38;5;250m    \u001b[39m\u001b[38;5;124;03m\"\"\"The text of the element.\"\"\"\u001b[39;00m\n\u001b[1;32m---> 90\u001b[0m     \u001b[38;5;28;01mreturn\u001b[39;00m \u001b[38;5;28;43mself\u001b[39;49m\u001b[38;5;241;43m.\u001b[39;49m\u001b[43m_execute\u001b[49m\u001b[43m(\u001b[49m\u001b[43mCommand\u001b[49m\u001b[38;5;241;43m.\u001b[39;49m\u001b[43mGET_ELEMENT_TEXT\u001b[49m\u001b[43m)\u001b[49m[\u001b[38;5;124m\"\u001b[39m\u001b[38;5;124mvalue\u001b[39m\u001b[38;5;124m\"\u001b[39m]\n",
      "File \u001b[1;32mc:\\Users\\moham\\AppData\\Local\\Programs\\Python\\Python312\\Lib\\site-packages\\selenium\\webdriver\\remote\\webelement.py:395\u001b[0m, in \u001b[0;36mWebElement._execute\u001b[1;34m(self, command, params)\u001b[0m\n\u001b[0;32m    393\u001b[0m     params \u001b[38;5;241m=\u001b[39m {}\n\u001b[0;32m    394\u001b[0m params[\u001b[38;5;124m\"\u001b[39m\u001b[38;5;124mid\u001b[39m\u001b[38;5;124m\"\u001b[39m] \u001b[38;5;241m=\u001b[39m \u001b[38;5;28mself\u001b[39m\u001b[38;5;241m.\u001b[39m_id\n\u001b[1;32m--> 395\u001b[0m \u001b[38;5;28;01mreturn\u001b[39;00m \u001b[38;5;28;43mself\u001b[39;49m\u001b[38;5;241;43m.\u001b[39;49m\u001b[43m_parent\u001b[49m\u001b[38;5;241;43m.\u001b[39;49m\u001b[43mexecute\u001b[49m\u001b[43m(\u001b[49m\u001b[43mcommand\u001b[49m\u001b[43m,\u001b[49m\u001b[43m \u001b[49m\u001b[43mparams\u001b[49m\u001b[43m)\u001b[49m\n",
      "File \u001b[1;32mc:\\Users\\moham\\AppData\\Local\\Programs\\Python\\Python312\\Lib\\site-packages\\selenium\\webdriver\\remote\\webdriver.py:354\u001b[0m, in \u001b[0;36mWebDriver.execute\u001b[1;34m(self, driver_command, params)\u001b[0m\n\u001b[0;32m    352\u001b[0m response \u001b[38;5;241m=\u001b[39m \u001b[38;5;28mself\u001b[39m\u001b[38;5;241m.\u001b[39mcommand_executor\u001b[38;5;241m.\u001b[39mexecute(driver_command, params)\n\u001b[0;32m    353\u001b[0m \u001b[38;5;28;01mif\u001b[39;00m response:\n\u001b[1;32m--> 354\u001b[0m     \u001b[38;5;28;43mself\u001b[39;49m\u001b[38;5;241;43m.\u001b[39;49m\u001b[43merror_handler\u001b[49m\u001b[38;5;241;43m.\u001b[39;49m\u001b[43mcheck_response\u001b[49m\u001b[43m(\u001b[49m\u001b[43mresponse\u001b[49m\u001b[43m)\u001b[49m\n\u001b[0;32m    355\u001b[0m     response[\u001b[38;5;124m\"\u001b[39m\u001b[38;5;124mvalue\u001b[39m\u001b[38;5;124m\"\u001b[39m] \u001b[38;5;241m=\u001b[39m \u001b[38;5;28mself\u001b[39m\u001b[38;5;241m.\u001b[39m_unwrap_value(response\u001b[38;5;241m.\u001b[39mget(\u001b[38;5;124m\"\u001b[39m\u001b[38;5;124mvalue\u001b[39m\u001b[38;5;124m\"\u001b[39m, \u001b[38;5;28;01mNone\u001b[39;00m))\n\u001b[0;32m    356\u001b[0m     \u001b[38;5;28;01mreturn\u001b[39;00m response\n",
      "File \u001b[1;32mc:\\Users\\moham\\AppData\\Local\\Programs\\Python\\Python312\\Lib\\site-packages\\selenium\\webdriver\\remote\\errorhandler.py:229\u001b[0m, in \u001b[0;36mErrorHandler.check_response\u001b[1;34m(self, response)\u001b[0m\n\u001b[0;32m    227\u001b[0m         alert_text \u001b[38;5;241m=\u001b[39m value[\u001b[38;5;124m\"\u001b[39m\u001b[38;5;124malert\u001b[39m\u001b[38;5;124m\"\u001b[39m]\u001b[38;5;241m.\u001b[39mget(\u001b[38;5;124m\"\u001b[39m\u001b[38;5;124mtext\u001b[39m\u001b[38;5;124m\"\u001b[39m)\n\u001b[0;32m    228\u001b[0m     \u001b[38;5;28;01mraise\u001b[39;00m exception_class(message, screen, stacktrace, alert_text)  \u001b[38;5;66;03m# type: ignore[call-arg]  # mypy is not smart enough here\u001b[39;00m\n\u001b[1;32m--> 229\u001b[0m \u001b[38;5;28;01mraise\u001b[39;00m exception_class(message, screen, stacktrace)\n",
      "\u001b[1;31mStaleElementReferenceException\u001b[0m: Message: stale element reference: stale element not found in the current frame\n  (Session info: MicrosoftEdge=130.0.2849.46); For documentation on this error, please visit: https://www.selenium.dev/documentation/webdriver/troubleshooting/errors#stale-element-reference-exception\nStacktrace:\n\tGetHandleVerifier [0x00007FF7451BD095+12933]\n\tMicrosoft::Applications::Events::EventProperty::empty [0x00007FF74547FE14+2285364]\n\tMicrosoft::Applications::Events::EventProperty::empty [0x00007FF7453BD7D6+1489142]\n\t(No symbol) [0x00007FF744F6B005]\n\t(No symbol) [0x00007FF744F6CC07]\n\t(No symbol) [0x00007FF744F6CCC0]\n\t(No symbol) [0x00007FF744FA551B]\n\t(No symbol) [0x00007FF744FC847A]\n\t(No symbol) [0x00007FF744FA05A7]\n\t(No symbol) [0x00007FF744FA046D]\n\t(No symbol) [0x00007FF744FC8760]\n\t(No symbol) [0x00007FF744FA05A7]\n\t(No symbol) [0x00007FF744FE13B1]\n\t(No symbol) [0x00007FF744FC80E3]\n\t(No symbol) [0x00007FF744F9FAE4]\n\t(No symbol) [0x00007FF744F9EF90]\n\t(No symbol) [0x00007FF744F9F6D1]\n\tMicrosoft::Applications::Events::EventProperty::empty [0x00007FF745354764+1058948]\n\tMicrosoft::Applications::Events::EventProperty::~EventProperty [0x00007FF7450C66B4+56500]\n\tMicrosoft::Applications::Events::EventProperty::empty [0x00007FF745353763+1054851]\n\tMicrosoft::Applications::Events::EventProperty::empty [0x00007FF7453533C9+1053929]\n\tMicrosoft::Applications::Events::ILogConfiguration::operator* [0x00007FF7451539E1+428481]\n\tMicrosoft::Applications::Events::ILogConfiguration::operator* [0x00007FF74514FC94+412788]\n\tMicrosoft::Applications::Events::ILogConfiguration::operator* [0x00007FF74514FDD9+413113]\n\tMicrosoft::Applications::Events::ILogConfiguration::operator* [0x00007FF745145A06+371174]\n\tBaseThreadInitThunk [0x00007FFAD6EF257D+29]\n\tRtlUserThreadStart [0x00007FFAD8ECAF08+40]\n"
     ]
    }
   ],
   "source": []
  },
  {
   "cell_type": "code",
   "execution_count": 59,
   "metadata": {},
   "outputs": [
    {
     "name": "stdout",
     "output_type": "stream",
     "text": [
      "100\n",
      "100\n",
      "100\n",
      "100\n",
      "100\n",
      "100\n",
      "100\n",
      "100\n",
      "100\n",
      "100\n",
      "100\n",
      "100\n",
      "100\n",
      "100\n",
      "100\n",
      "100\n",
      "100\n",
      "100\n",
      "100\n",
      "100\n",
      "100\n",
      "100\n",
      "100\n",
      "100\n",
      "100\n",
      "100\n",
      "100\n",
      "100\n",
      "100\n",
      "100\n",
      "100\n",
      "100\n",
      "100\n",
      "100\n",
      "100\n",
      "100\n",
      "100\n",
      "100\n",
      "100\n",
      "100\n",
      "100\n",
      "100\n",
      "100\n",
      "100\n",
      "100\n",
      "100\n",
      "100\n",
      "100\n",
      "100\n",
      "100\n",
      "100\n",
      "100\n",
      "100\n",
      "100\n",
      "100\n",
      "100\n",
      "100\n",
      "100\n",
      "100\n",
      "100\n",
      "100\n",
      "100\n",
      "100\n",
      "100\n",
      "100\n",
      "100\n",
      "100\n",
      "100\n",
      "100\n",
      "100\n",
      "100\n",
      "100\n",
      "100\n",
      "100\n",
      "100\n",
      "100\n",
      "100\n",
      "100\n",
      "100\n",
      "100\n",
      "100\n",
      "100\n",
      "100\n",
      "100\n",
      "100\n",
      "100\n",
      "100\n",
      "100\n",
      "100\n",
      "100\n",
      "100\n",
      "100\n",
      "100\n",
      "100\n",
      "100\n",
      "100\n",
      "100\n",
      "100\n",
      "100\n",
      "100\n"
     ]
    }
   ],
   "source": [
    "# elements = driver.find_elements(By.XPATH, \"//*[starts-with(@id, 'customer_review')]\")\n",
    "for i in elements:\n",
    "    username,title,date,comment= remove_things(i.text)\n",
    "    print('date=',date,\"username=\",username)\n",
    "    # print('rj')"
   ]
  },
  {
   "cell_type": "code",
   "execution_count": null,
   "metadata": {},
   "outputs": [],
   "source": [
    "whiel 100 or not find the button of next page "
   ]
  },
  {
   "cell_type": "code",
   "execution_count": 106,
   "metadata": {},
   "outputs": [
    {
     "name": "stdout",
     "output_type": "stream",
     "text": [
      "Jhon Alexander Bonilla\n",
      "buenas relación calidad/precio\n",
      "Reviewed in the United States on January 12, 2024\n",
      "Color: whiteStyle: 12800DPIVerified Purchase\n",
      "\n",
      "Helpful\n",
      "Report\n",
      "Translate review to English\n"
     ]
    }
   ],
   "source": [
    "print(teen_comments[0].text)"
   ]
  },
  {
   "cell_type": "code",
   "execution_count": 23,
   "metadata": {},
   "outputs": [],
   "source": [
    "# (By.XPATH,\"//*[@data-hook='cr-filter-info-review-rating-count']\")\n",
    "all_comments=driver.find_element(By.XPATH,\"//*[@data-cel-widget='cm_cr-review_list']\")"
   ]
  },
  {
   "cell_type": "code",
   "execution_count": 26,
   "metadata": {},
   "outputs": [
    {
     "ename": "TypeError",
     "evalue": "'WebElement' object is not iterable",
     "output_type": "error",
     "traceback": [
      "\u001b[1;31m---------------------------------------------------------------------------\u001b[0m",
      "\u001b[1;31mTypeError\u001b[0m                                 Traceback (most recent call last)",
      "Cell \u001b[1;32mIn[26], line 1\u001b[0m\n\u001b[1;32m----> 1\u001b[0m \u001b[38;5;28;01mfor\u001b[39;00m comment \u001b[38;5;129;01min\u001b[39;00m all_comments:\n\u001b[0;32m      2\u001b[0m     \u001b[38;5;28mprint\u001b[39m(comment\u001b[38;5;241m.\u001b[39mfind_element(By\u001b[38;5;241m.\u001b[39mXPATH,\u001b[38;5;124m\"\u001b[39m\u001b[38;5;124m//*[@data-hook=\u001b[39m\u001b[38;5;124m'\u001b[39m\u001b[38;5;124mcm_cr-review_list\u001b[39m\u001b[38;5;124m'\u001b[39m\u001b[38;5;124m]\u001b[39m\u001b[38;5;124m\"\u001b[39m))\n",
      "\u001b[1;31mTypeError\u001b[0m: 'WebElement' object is not iterable"
     ]
    }
   ],
   "source": [
    "all_comments=(driver.find_elements(By.XPATH,\"//*[@data-hook='cm_cr-review_list']\"))\n",
    "for comment in all_comments:\n",
    "    print(comment.find_elements(By.XPATH,\"//*[@data-hook='cm_cr-review_list']\"))"
   ]
  },
  {
   "cell_type": "code",
   "execution_count": 20,
   "metadata": {},
   "outputs": [
    {
     "data": {
      "text/plain": [
       "1027"
      ]
     },
     "execution_count": 20,
     "metadata": {},
     "output_type": "execute_result"
    }
   ],
   "source": [
    "total_comments=int(total_comments.split()[0].replace(',',''))\n",
    "if(total_comments>=100):\n",
    "    for i in range (1,100):\n",
    "        "
   ]
  },
  {
   "cell_type": "code",
   "execution_count": 15,
   "metadata": {},
   "outputs": [
    {
     "ename": "NameError",
     "evalue": "name 'test' is not defined",
     "output_type": "error",
     "traceback": [
      "\u001b[1;31m---------------------------------------------------------------------------\u001b[0m",
      "\u001b[1;31mNameError\u001b[0m                                 Traceback (most recent call last)",
      "Cell \u001b[1;32mIn[15], line 1\u001b[0m\n\u001b[1;32m----> 1\u001b[0m \u001b[38;5;28;01mfor\u001b[39;00m commen \u001b[38;5;129;01min\u001b[39;00m \u001b[43mtest\u001b[49m:\n\u001b[0;32m      2\u001b[0m     \u001b[38;5;28mprint\u001b[39m(commen\u001b[38;5;241m.\u001b[39mfind_element(By\u001b[38;5;241m.\u001b[39mXPATH, \u001b[38;5;124m\"\u001b[39m\u001b[38;5;124m//*[@data-hook=\u001b[39m\u001b[38;5;124m'\u001b[39m\u001b[38;5;124mreview-title\u001b[39m\u001b[38;5;124m'\u001b[39m\u001b[38;5;124m]\u001b[39m\u001b[38;5;124m\"\u001b[39m)\u001b[38;5;241m.\u001b[39mtext)\n",
      "\u001b[1;31mNameError\u001b[0m: name 'test' is not defined"
     ]
    }
   ],
   "source": [
    "for commen in test:\n",
    "    print(commen.find_element(By.XPATH, \"//*[@data-hook='review-title']\").text)\n"
   ]
  }
 ],
 "metadata": {
  "kernelspec": {
   "display_name": "Python 3",
   "language": "python",
   "name": "python3"
  },
  "language_info": {
   "codemirror_mode": {
    "name": "ipython",
    "version": 3
   },
   "file_extension": ".py",
   "mimetype": "text/x-python",
   "name": "python",
   "nbconvert_exporter": "python",
   "pygments_lexer": "ipython3",
   "version": "3.12.4"
  }
 },
 "nbformat": 4,
 "nbformat_minor": 2
}
