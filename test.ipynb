{
 "cells": [
  {
   "cell_type": "code",
   "execution_count": 1,
   "metadata": {},
   "outputs": [],
   "source": [
    "\n",
    "from selenium import webdriver\n",
    "from selenium.webdriver.common.by import By\n",
    "from selenium.webdriver.common.keys import Keys\n",
    "from time import sleep\n",
    "from selenium.common.exceptions import StaleElementReferenceException\n",
    "from selenium.common.exceptions import NoSuchElementException\n",
    "from selenium.webdriver.edge.service import Service"
   ]
  },
  {
   "cell_type": "code",
   "execution_count": 2,
   "metadata": {},
   "outputs": [
    {
     "ename": "NoSuchDriverException",
     "evalue": "Message: Unable to obtain driver for MicrosoftEdge; For documentation on this error, please visit: https://www.selenium.dev/documentation/webdriver/troubleshooting/errors/driver_location\n",
     "output_type": "error",
     "traceback": [
      "\u001b[1;31m---------------------------------------------------------------------------\u001b[0m",
      "\u001b[1;31mValueError\u001b[0m                                Traceback (most recent call last)",
      "File \u001b[1;32mc:\\Users\\moham\\AppData\\Local\\Programs\\Python\\Python312\\Lib\\site-packages\\selenium\\webdriver\\common\\driver_finder.py:64\u001b[0m, in \u001b[0;36mDriverFinder._binary_paths\u001b[1;34m(self)\u001b[0m\n\u001b[0;32m     63\u001b[0m \u001b[38;5;28;01mif\u001b[39;00m \u001b[38;5;129;01mnot\u001b[39;00m Path(path)\u001b[38;5;241m.\u001b[39mis_file():\n\u001b[1;32m---> 64\u001b[0m     \u001b[38;5;28;01mraise\u001b[39;00m \u001b[38;5;167;01mValueError\u001b[39;00m(\u001b[38;5;124mf\u001b[39m\u001b[38;5;124m\"\u001b[39m\u001b[38;5;124mThe path is not a valid file: \u001b[39m\u001b[38;5;132;01m{\u001b[39;00mpath\u001b[38;5;132;01m}\u001b[39;00m\u001b[38;5;124m\"\u001b[39m)\n\u001b[0;32m     65\u001b[0m \u001b[38;5;28mself\u001b[39m\u001b[38;5;241m.\u001b[39m_paths[\u001b[38;5;124m\"\u001b[39m\u001b[38;5;124mdriver_path\u001b[39m\u001b[38;5;124m\"\u001b[39m] \u001b[38;5;241m=\u001b[39m path\n",
      "\u001b[1;31mValueError\u001b[0m: The path is not a valid file: edge_driver\\msedgedriver.exe",
      "\nThe above exception was the direct cause of the following exception:\n",
      "\u001b[1;31mNoSuchDriverException\u001b[0m                     Traceback (most recent call last)",
      "Cell \u001b[1;32mIn[2], line 4\u001b[0m\n\u001b[0;32m      1\u001b[0m PATH \u001b[38;5;241m=\u001b[39m\u001b[38;5;124m'\u001b[39m\u001b[38;5;124medge_driver\u001b[39m\u001b[38;5;130;01m\\\\\u001b[39;00m\u001b[38;5;124mmsedgedriver.exe\u001b[39m\u001b[38;5;124m'\u001b[39m\n\u001b[0;32m      3\u001b[0m service \u001b[38;5;241m=\u001b[39m Service(PATH)\n\u001b[1;32m----> 4\u001b[0m driver \u001b[38;5;241m=\u001b[39m \u001b[43mwebdriver\u001b[49m\u001b[38;5;241;43m.\u001b[39;49m\u001b[43mEdge\u001b[49m\u001b[43m(\u001b[49m\u001b[43mservice\u001b[49m\u001b[38;5;241;43m=\u001b[39;49m\u001b[43mservice\u001b[49m\u001b[43m)\u001b[49m\n\u001b[0;32m      5\u001b[0m url\u001b[38;5;241m=\u001b[39m\u001b[38;5;124m'\u001b[39m\u001b[38;5;124mhttps://www.amazon.com/DIERYA-Programmable-Customizable-Honeycomb-Drag-Free/dp/B0BGS8PG3K/ref=sr_1_1_sspa?crid=2OZ2HU04D3MJ0&dib=eyJ2IjoiMSJ9.SmIo5lSUmWub_0kmt39fqJFUtNZ54Nku_AWC2A3MERwFzP0sf9o4_urjwc8SLjewAFSMkXaV5msWCNapSpnyvqVxjhTg1TUSyA0g34EhHNwFGsRuhmsSu_d9ADOG7KSAA7yNy3k39UBAmKCSHA1Cod17od5pp6ftLTVUUtrrlEfEOrifBYoYxszj5azKUqqPJK8wWDYTdiq8exYiNhsYfAxrMvaumhoYxKqlwLRklnc.r6rDZODB8p5dVB7HQWmrPMnrWqaALtH9ChSsrz8M2uc&dib_tag=se&keywords=mouse\u001b[39m\u001b[38;5;124m%\u001b[39m\u001b[38;5;124m2Bgaming&qid=1729342007&sprefix=\u001b[39m\u001b[38;5;124m%\u001b[39m\u001b[38;5;124m2Caps\u001b[39m\u001b[38;5;124m%\u001b[39m\u001b[38;5;124m2C170&sr=8-1-spons&sp_csd=d2lkZ2V0TmFtZT1zcF9hdGY&th=1\u001b[39m\u001b[38;5;124m'\u001b[39m\n\u001b[0;32m      6\u001b[0m driver\u001b[38;5;241m.\u001b[39mget(url)\n",
      "File \u001b[1;32mc:\\Users\\moham\\AppData\\Local\\Programs\\Python\\Python312\\Lib\\site-packages\\selenium\\webdriver\\edge\\webdriver.py:45\u001b[0m, in \u001b[0;36mWebDriver.__init__\u001b[1;34m(self, options, service, keep_alive)\u001b[0m\n\u001b[0;32m     42\u001b[0m service \u001b[38;5;241m=\u001b[39m service \u001b[38;5;28;01mif\u001b[39;00m service \u001b[38;5;28;01melse\u001b[39;00m Service()\n\u001b[0;32m     43\u001b[0m options \u001b[38;5;241m=\u001b[39m options \u001b[38;5;28;01mif\u001b[39;00m options \u001b[38;5;28;01melse\u001b[39;00m Options()\n\u001b[1;32m---> 45\u001b[0m \u001b[38;5;28;43msuper\u001b[39;49m\u001b[43m(\u001b[49m\u001b[43m)\u001b[49m\u001b[38;5;241;43m.\u001b[39;49m\u001b[38;5;21;43m__init__\u001b[39;49m\u001b[43m(\u001b[49m\n\u001b[0;32m     46\u001b[0m \u001b[43m    \u001b[49m\u001b[43mbrowser_name\u001b[49m\u001b[38;5;241;43m=\u001b[39;49m\u001b[43mDesiredCapabilities\u001b[49m\u001b[38;5;241;43m.\u001b[39;49m\u001b[43mEDGE\u001b[49m\u001b[43m[\u001b[49m\u001b[38;5;124;43m\"\u001b[39;49m\u001b[38;5;124;43mbrowserName\u001b[39;49m\u001b[38;5;124;43m\"\u001b[39;49m\u001b[43m]\u001b[49m\u001b[43m,\u001b[49m\n\u001b[0;32m     47\u001b[0m \u001b[43m    \u001b[49m\u001b[43mvendor_prefix\u001b[49m\u001b[38;5;241;43m=\u001b[39;49m\u001b[38;5;124;43m\"\u001b[39;49m\u001b[38;5;124;43mms\u001b[39;49m\u001b[38;5;124;43m\"\u001b[39;49m\u001b[43m,\u001b[49m\n\u001b[0;32m     48\u001b[0m \u001b[43m    \u001b[49m\u001b[43moptions\u001b[49m\u001b[38;5;241;43m=\u001b[39;49m\u001b[43moptions\u001b[49m\u001b[43m,\u001b[49m\n\u001b[0;32m     49\u001b[0m \u001b[43m    \u001b[49m\u001b[43mservice\u001b[49m\u001b[38;5;241;43m=\u001b[39;49m\u001b[43mservice\u001b[49m\u001b[43m,\u001b[49m\n\u001b[0;32m     50\u001b[0m \u001b[43m    \u001b[49m\u001b[43mkeep_alive\u001b[49m\u001b[38;5;241;43m=\u001b[39;49m\u001b[43mkeep_alive\u001b[49m\u001b[43m,\u001b[49m\n\u001b[0;32m     51\u001b[0m \u001b[43m\u001b[49m\u001b[43m)\u001b[49m\n",
      "File \u001b[1;32mc:\\Users\\moham\\AppData\\Local\\Programs\\Python\\Python312\\Lib\\site-packages\\selenium\\webdriver\\chromium\\webdriver.py:50\u001b[0m, in \u001b[0;36mChromiumDriver.__init__\u001b[1;34m(self, browser_name, vendor_prefix, options, service, keep_alive)\u001b[0m\n\u001b[0;32m     47\u001b[0m \u001b[38;5;28mself\u001b[39m\u001b[38;5;241m.\u001b[39mservice \u001b[38;5;241m=\u001b[39m service\n\u001b[0;32m     49\u001b[0m finder \u001b[38;5;241m=\u001b[39m DriverFinder(\u001b[38;5;28mself\u001b[39m\u001b[38;5;241m.\u001b[39mservice, options)\n\u001b[1;32m---> 50\u001b[0m \u001b[38;5;28;01mif\u001b[39;00m \u001b[43mfinder\u001b[49m\u001b[38;5;241;43m.\u001b[39;49m\u001b[43mget_browser_path\u001b[49m\u001b[43m(\u001b[49m\u001b[43m)\u001b[49m:\n\u001b[0;32m     51\u001b[0m     options\u001b[38;5;241m.\u001b[39mbinary_location \u001b[38;5;241m=\u001b[39m finder\u001b[38;5;241m.\u001b[39mget_browser_path()\n\u001b[0;32m     52\u001b[0m     options\u001b[38;5;241m.\u001b[39mbrowser_version \u001b[38;5;241m=\u001b[39m \u001b[38;5;28;01mNone\u001b[39;00m\n",
      "File \u001b[1;32mc:\\Users\\moham\\AppData\\Local\\Programs\\Python\\Python312\\Lib\\site-packages\\selenium\\webdriver\\common\\driver_finder.py:47\u001b[0m, in \u001b[0;36mDriverFinder.get_browser_path\u001b[1;34m(self)\u001b[0m\n\u001b[0;32m     46\u001b[0m \u001b[38;5;28;01mdef\u001b[39;00m \u001b[38;5;21mget_browser_path\u001b[39m(\u001b[38;5;28mself\u001b[39m) \u001b[38;5;241m-\u001b[39m\u001b[38;5;241m>\u001b[39m \u001b[38;5;28mstr\u001b[39m:\n\u001b[1;32m---> 47\u001b[0m     \u001b[38;5;28;01mreturn\u001b[39;00m \u001b[38;5;28;43mself\u001b[39;49m\u001b[38;5;241;43m.\u001b[39;49m\u001b[43m_binary_paths\u001b[49m\u001b[43m(\u001b[49m\u001b[43m)\u001b[49m[\u001b[38;5;124m\"\u001b[39m\u001b[38;5;124mbrowser_path\u001b[39m\u001b[38;5;124m\"\u001b[39m]\n",
      "File \u001b[1;32mc:\\Users\\moham\\AppData\\Local\\Programs\\Python\\Python312\\Lib\\site-packages\\selenium\\webdriver\\common\\driver_finder.py:78\u001b[0m, in \u001b[0;36mDriverFinder._binary_paths\u001b[1;34m(self)\u001b[0m\n\u001b[0;32m     76\u001b[0m \u001b[38;5;28;01mexcept\u001b[39;00m \u001b[38;5;167;01mException\u001b[39;00m \u001b[38;5;28;01mas\u001b[39;00m err:\n\u001b[0;32m     77\u001b[0m     msg \u001b[38;5;241m=\u001b[39m \u001b[38;5;124mf\u001b[39m\u001b[38;5;124m\"\u001b[39m\u001b[38;5;124mUnable to obtain driver for \u001b[39m\u001b[38;5;132;01m{\u001b[39;00mbrowser\u001b[38;5;132;01m}\u001b[39;00m\u001b[38;5;124m\"\u001b[39m\n\u001b[1;32m---> 78\u001b[0m     \u001b[38;5;28;01mraise\u001b[39;00m NoSuchDriverException(msg) \u001b[38;5;28;01mfrom\u001b[39;00m \u001b[38;5;21;01merr\u001b[39;00m\n\u001b[0;32m     79\u001b[0m \u001b[38;5;28;01mreturn\u001b[39;00m \u001b[38;5;28mself\u001b[39m\u001b[38;5;241m.\u001b[39m_paths\n",
      "\u001b[1;31mNoSuchDriverException\u001b[0m: Message: Unable to obtain driver for MicrosoftEdge; For documentation on this error, please visit: https://www.selenium.dev/documentation/webdriver/troubleshooting/errors/driver_location\n"
     ]
    }
   ],
   "source": [
    "PATH ='edge_driver\\\\msedgedriver.exe'\n",
    "\n",
    "service = Service(PATH)\n",
    "driver = webdriver.Edge(service=service)\n",
    "url='https://www.amazon.com/DIERYA-Programmable-Customizable-Honeycomb-Drag-Free/dp/B0BGS8PG3K/ref=sr_1_1_sspa?crid=2OZ2HU04D3MJ0&dib=eyJ2IjoiMSJ9.SmIo5lSUmWub_0kmt39fqJFUtNZ54Nku_AWC2A3MERwFzP0sf9o4_urjwc8SLjewAFSMkXaV5msWCNapSpnyvqVxjhTg1TUSyA0g34EhHNwFGsRuhmsSu_d9ADOG7KSAA7yNy3k39UBAmKCSHA1Cod17od5pp6ftLTVUUtrrlEfEOrifBYoYxszj5azKUqqPJK8wWDYTdiq8exYiNhsYfAxrMvaumhoYxKqlwLRklnc.r6rDZODB8p5dVB7HQWmrPMnrWqaALtH9ChSsrz8M2uc&dib_tag=se&keywords=mouse%2Bgaming&qid=1729342007&sprefix=%2Caps%2C170&sr=8-1-spons&sp_csd=d2lkZ2V0TmFtZT1zcF9hdGY&th=1'\n",
    "driver.get(url)\n",
    "driver.find_element(By.XPATH,\"//*[@data-hook='see-all-reviews-link-foot']\").click()\n",
    "total_comments=driver.find_element(By.XPATH,\"//*[@data-hook='cr-filter-info-review-rating-count']\").text\n",
    "# driver.find_element(By.XPATH,\"//*[@data-hook='cr-translate-these-reviews-link']\").click()\n"
   ]
  },
  {
   "cell_type": "code",
   "execution_count": 35,
   "metadata": {},
   "outputs": [],
   "source": [
    "all_comments=(driver.find_elements(By.XPATH,\"//*[@data-hook='review']\"))"
   ]
  },
  {
   "cell_type": "code",
   "execution_count": 49,
   "metadata": {},
   "outputs": [
    {
     "name": "stdout",
     "output_type": "stream",
     "text": [
      "['Adriana', 'Very good mouse for the price', 'Reviewed in the United States on December 24, 2023', 'Color: whiteStyle: 12800DPIVerified Purchase', 'I was looking for a breathable type mouth for a while and i could not afford the other expensive ones so i wanted to give this one a try, ive been gaming with it and its super nice, it feels like really good quality and its also very pretty looking! Its DPI settings are super easy and super fast as well and the colors are nice too. I would reccomend if youre looking for a pretty/nice looking mouse that has the same functions as a much more expensive one for a low price! :))', '', 'One person found this helpful', 'Helpful', 'Report']\n",
      "['Adriana', 'Very good mouse for the price', 'Reviewed in the United States on December 24, 2023', 'Color: whiteStyle: 12800DPIVerified Purchase', 'I was looking for a breathable type mouth for a while and i could not afford the other expensive ones so i wanted to give this one a try, ive been gaming with it and its super nice, it feels like really good quality and its also very pretty looking! Its DPI settings are super easy and super fast as well and the colors are nice too. I would reccomend if youre looking for a pretty/nice looking mouse that has the same functions as a much more expensive one for a low price! :))', '', 'One person found this helpful', 'Helpful', 'Report']\n",
      "['Adriana', 'Very good mouse for the price', 'Reviewed in the United States on December 24, 2023', 'Color: whiteStyle: 12800DPIVerified Purchase', 'I was looking for a breathable type mouth for a while and i could not afford the other expensive ones so i wanted to give this one a try, ive been gaming with it and its super nice, it feels like really good quality and its also very pretty looking! Its DPI settings are super easy and super fast as well and the colors are nice too. I would reccomend if youre looking for a pretty/nice looking mouse that has the same functions as a much more expensive one for a low price! :))', '', 'One person found this helpful', 'Helpful', 'Report']\n",
      "['Adriana', 'Very good mouse for the price', 'Reviewed in the United States on December 24, 2023', 'Color: whiteStyle: 12800DPIVerified Purchase', 'I was looking for a breathable type mouth for a while and i could not afford the other expensive ones so i wanted to give this one a try, ive been gaming with it and its super nice, it feels like really good quality and its also very pretty looking! Its DPI settings are super easy and super fast as well and the colors are nice too. I would reccomend if youre looking for a pretty/nice looking mouse that has the same functions as a much more expensive one for a low price! :))', '', 'One person found this helpful', 'Helpful', 'Report']\n",
      "['Adriana', 'Very good mouse for the price', 'Reviewed in the United States on December 24, 2023', 'Color: whiteStyle: 12800DPIVerified Purchase', 'I was looking for a breathable type mouth for a while and i could not afford the other expensive ones so i wanted to give this one a try, ive been gaming with it and its super nice, it feels like really good quality and its also very pretty looking! Its DPI settings are super easy and super fast as well and the colors are nice too. I would reccomend if youre looking for a pretty/nice looking mouse that has the same functions as a much more expensive one for a low price! :))', '', 'One person found this helpful', 'Helpful', 'Report']\n",
      "['Adriana', 'Very good mouse for the price', 'Reviewed in the United States on December 24, 2023', 'Color: whiteStyle: 12800DPIVerified Purchase', 'I was looking for a breathable type mouth for a while and i could not afford the other expensive ones so i wanted to give this one a try, ive been gaming with it and its super nice, it feels like really good quality and its also very pretty looking! Its DPI settings are super easy and super fast as well and the colors are nice too. I would reccomend if youre looking for a pretty/nice looking mouse that has the same functions as a much more expensive one for a low price! :))', '', 'One person found this helpful', 'Helpful', 'Report']\n",
      "['Adriana', 'Very good mouse for the price', 'Reviewed in the United States on December 24, 2023', 'Color: whiteStyle: 12800DPIVerified Purchase', 'I was looking for a breathable type mouth for a while and i could not afford the other expensive ones so i wanted to give this one a try, ive been gaming with it and its super nice, it feels like really good quality and its also very pretty looking! Its DPI settings are super easy and super fast as well and the colors are nice too. I would reccomend if youre looking for a pretty/nice looking mouse that has the same functions as a much more expensive one for a low price! :))', '', 'One person found this helpful', 'Helpful', 'Report']\n",
      "['Adriana', 'Very good mouse for the price', 'Reviewed in the United States on December 24, 2023', 'Color: whiteStyle: 12800DPIVerified Purchase', 'I was looking for a breathable type mouth for a while and i could not afford the other expensive ones so i wanted to give this one a try, ive been gaming with it and its super nice, it feels like really good quality and its also very pretty looking! Its DPI settings are super easy and super fast as well and the colors are nice too. I would reccomend if youre looking for a pretty/nice looking mouse that has the same functions as a much more expensive one for a low price! :))', '', 'One person found this helpful', 'Helpful', 'Report']\n",
      "['Adriana', 'Very good mouse for the price', 'Reviewed in the United States on December 24, 2023', 'Color: whiteStyle: 12800DPIVerified Purchase', 'I was looking for a breathable type mouth for a while and i could not afford the other expensive ones so i wanted to give this one a try, ive been gaming with it and its super nice, it feels like really good quality and its also very pretty looking! Its DPI settings are super easy and super fast as well and the colors are nice too. I would reccomend if youre looking for a pretty/nice looking mouse that has the same functions as a much more expensive one for a low price! :))', '', 'One person found this helpful', 'Helpful', 'Report']\n",
      "['Adriana', 'Very good mouse for the price', 'Reviewed in the United States on December 24, 2023', 'Color: whiteStyle: 12800DPIVerified Purchase', 'I was looking for a breathable type mouth for a while and i could not afford the other expensive ones so i wanted to give this one a try, ive been gaming with it and its super nice, it feels like really good quality and its also very pretty looking! Its DPI settings are super easy and super fast as well and the colors are nice too. I would reccomend if youre looking for a pretty/nice looking mouse that has the same functions as a much more expensive one for a low price! :))', '', 'One person found this helpful', 'Helpful', 'Report']\n"
     ]
    }
   ],
   "source": [
    "for comm in all_comments:\n",
    "    # print('jadir')\n",
    "    elements = comm.find_elements(By.XPATH, \"//*[starts-with(@id, 'customer_review')]\")\n",
    "    print((elements.text.split(\"\\n\")))"
   ]
  },
  {
   "cell_type": "code",
   "execution_count": 83,
   "metadata": {},
   "outputs": [],
   "source": [
    "\n",
    "from datetime import datetime\n",
    "def remove_things(text):\n",
    "    \n",
    "    test= text.split('\\n')\n",
    "\n",
    "    # Original string parts\n",
    "    month = test[2].split()[-3]\n",
    "    day = int(test[2].split()[-2].split(',')[0])\n",
    "    year = test[2].split()[-1]\n",
    "\n",
    "    # Create a single string representing the date\n",
    "    date_string = f\"{month} {day}, {year}\"\n",
    "\n",
    "    # Parse the string into a datetime object\n",
    "    date_obj = datetime.strptime(date_string, \"%B %d, %Y\").date()\n",
    "    return test[0],test[1],date_obj,test[4]"
   ]
  },
  {
   "cell_type": "code",
   "execution_count": 85,
   "metadata": {},
   "outputs": [
    {
     "name": "stdout",
     "output_type": "stream",
     "text": [
      "date= 2023-12-24 username= Adriana\n",
      "date= 2023-03-21 username= Gabriel Coigny\n",
      "date= 2024-04-16 username= Jake Griffin\n",
      "date= 2024-03-30 username= Anthony\n",
      "date= 2024-04-11 username= Hailey\n",
      "date= 2024-07-04 username= Edward dixon\n",
      "date= 2024-09-09 username= Desire\n",
      "date= 2024-06-17 username= Perfect\n",
      "date= 2024-07-15 username= Alberto\n",
      "date= 2024-03-16 username= Justin\n"
     ]
    }
   ],
   "source": [
    "elements = comm.find_elements(By.XPATH, \"//*[starts-with(@id, 'customer_review')]\")\n",
    "for i in elements:\n",
    "    username,title,date,comment= remove_things(i.text)\n",
    "    print('date=',date,\"username=\",username)\n",
    "    # print('rj')"
   ]
  },
  {
   "cell_type": "code",
   "execution_count": null,
   "metadata": {},
   "outputs": [],
   "source": [
    "whiel 100 or not find the button of next page "
   ]
  },
  {
   "cell_type": "code",
   "execution_count": 81,
   "metadata": {},
   "outputs": [
    {
     "data": {
      "text/plain": [
       "'I was looking for a breathable type mouth for a while and i could not afford the other expensive ones so i wanted to give this one a try, ive been gaming with it and its super nice, it feels like really good quality and its also very pretty looking! Its DPI settings are super easy and super fast as well and the colors are nice too. I would reccomend if youre looking for a pretty/nice looking mouse that has the same functions as a much more expensive one for a low price! :))'"
      ]
     },
     "execution_count": 81,
     "metadata": {},
     "output_type": "execute_result"
    }
   ],
   "source": []
  },
  {
   "cell_type": "code",
   "execution_count": 23,
   "metadata": {},
   "outputs": [],
   "source": [
    "# (By.XPATH,\"//*[@data-hook='cr-filter-info-review-rating-count']\")\n",
    "all_comments=driver.find_element(By.XPATH,\"//*[@data-cel-widget='cm_cr-review_list']\")"
   ]
  },
  {
   "cell_type": "code",
   "execution_count": 26,
   "metadata": {},
   "outputs": [
    {
     "ename": "TypeError",
     "evalue": "'WebElement' object is not iterable",
     "output_type": "error",
     "traceback": [
      "\u001b[1;31m---------------------------------------------------------------------------\u001b[0m",
      "\u001b[1;31mTypeError\u001b[0m                                 Traceback (most recent call last)",
      "Cell \u001b[1;32mIn[26], line 1\u001b[0m\n\u001b[1;32m----> 1\u001b[0m \u001b[38;5;28;01mfor\u001b[39;00m comment \u001b[38;5;129;01min\u001b[39;00m all_comments:\n\u001b[0;32m      2\u001b[0m     \u001b[38;5;28mprint\u001b[39m(comment\u001b[38;5;241m.\u001b[39mfind_element(By\u001b[38;5;241m.\u001b[39mXPATH,\u001b[38;5;124m\"\u001b[39m\u001b[38;5;124m//*[@data-hook=\u001b[39m\u001b[38;5;124m'\u001b[39m\u001b[38;5;124mcm_cr-review_list\u001b[39m\u001b[38;5;124m'\u001b[39m\u001b[38;5;124m]\u001b[39m\u001b[38;5;124m\"\u001b[39m))\n",
      "\u001b[1;31mTypeError\u001b[0m: 'WebElement' object is not iterable"
     ]
    }
   ],
   "source": [
    "for comment in all_comments:\n",
    "    print(comment.find_elements(By.XPATH,\"//*[@data-hook='cm_cr-review_list']\"))"
   ]
  },
  {
   "cell_type": "code",
   "execution_count": 20,
   "metadata": {},
   "outputs": [
    {
     "data": {
      "text/plain": [
       "1027"
      ]
     },
     "execution_count": 20,
     "metadata": {},
     "output_type": "execute_result"
    }
   ],
   "source": [
    "total_comments=int(total_comments.split()[0].replace(',',''))\n",
    "if(total_comments>=100):\n",
    "    for i in range (1,100):\n",
    "        "
   ]
  },
  {
   "cell_type": "code",
   "execution_count": 9,
   "metadata": {},
   "outputs": [
    {
     "name": "stdout",
     "output_type": "stream",
     "text": [
      "Very good mouse for the price\n",
      "Very good mouse for the price\n",
      "Very good mouse for the price\n",
      "Very good mouse for the price\n",
      "Very good mouse for the price\n",
      "Very good mouse for the price\n",
      "Very good mouse for the price\n",
      "Very good mouse for the price\n",
      "Very good mouse for the price\n",
      "Very good mouse for the price\n",
      "Very good mouse for the price\n",
      "Very good mouse for the price\n",
      "Very good mouse for the price\n"
     ]
    }
   ],
   "source": [
    "for commen in test:\n",
    "    print(commen.find_element(By.XPATH, \"//*[@data-hook='review-title']\").text)\n"
   ]
  }
 ],
 "metadata": {
  "kernelspec": {
   "display_name": "Python 3",
   "language": "python",
   "name": "python3"
  },
  "language_info": {
   "codemirror_mode": {
    "name": "ipython",
    "version": 3
   },
   "file_extension": ".py",
   "mimetype": "text/x-python",
   "name": "python",
   "nbconvert_exporter": "python",
   "pygments_lexer": "ipython3",
   "version": "3.12.4"
  }
 },
 "nbformat": 4,
 "nbformat_minor": 2
}
